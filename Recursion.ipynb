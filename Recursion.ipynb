{
 "cells": [
  {
   "cell_type": "code",
   "execution_count": 1,
   "metadata": {},
   "outputs": [
    {
     "name": "stdout",
     "output_type": "stream",
     "text": [
      "3 2 1 "
     ]
    }
   ],
   "source": [
    "# Tail Recusion\n",
    "def fun(n):\n",
    "\tif (n > 0):\n",
    "\t\tprint(n, end=\" \")\n",
    "\t\tfun(n - 1)\n",
    "x = 3\n",
    "fun(x)"
   ]
  },
  {
   "cell_type": "code",
   "execution_count": 2,
   "metadata": {},
   "outputs": [
    {
     "name": "stdout",
     "output_type": "stream",
     "text": [
      "1 2 3 "
     ]
    }
   ],
   "source": [
    "# Head Recursion\n",
    "def fun(n):\n",
    "\tif (n > 0):\n",
    "\t\tfun(n - 1)\n",
    "\t\tprint(n,end=\" \")\n",
    "x = 3\n",
    "fun(x)"
   ]
  },
  {
   "cell_type": "code",
   "execution_count": 3,
   "metadata": {},
   "outputs": [
    {
     "name": "stdout",
     "output_type": "stream",
     "text": [
      "3 2 1 1 2 1 1 "
     ]
    }
   ],
   "source": [
    "# Tree Recursion\n",
    "def fun(n):\n",
    "\tif (n > 0):\n",
    "\t\tprint(n, end=\" \")\n",
    "\t\tfun(n - 1)\n",
    "\t\tfun(n - 1)\n",
    "fun(3)"
   ]
  },
  {
   "cell_type": "code",
   "execution_count": 4,
   "metadata": {},
   "outputs": [
    {
     "name": "stdout",
     "output_type": "stream",
     "text": [
      " 91\n"
     ]
    }
   ],
   "source": [
    "# Nested Recursion\n",
    "def fun(n):\n",
    "\n",
    "\tif (n > 100):\n",
    "\t\treturn n - 10\n",
    "\treturn fun(fun(n + 11))\n",
    "\n",
    "r = fun(95)\n",
    "print(\"\", r)"
   ]
  },
  {
   "cell_type": "code",
   "execution_count": 5,
   "metadata": {},
   "outputs": [
    {
     "name": "stdout",
     "output_type": "stream",
     "text": [
      " 20 19 9 8 4 3 1"
     ]
    }
   ],
   "source": [
    "# Indirect Recursion\n",
    "def funA(n):\n",
    "\tif (n > 0):\n",
    "\t\tprint(\"\", n, end='')\n",
    "\t\tfunB(n - 1)\n",
    "\t\n",
    "def funB( n):\n",
    "\tif (n > 1):\n",
    "\t\tprint(\"\", n, end='')\n",
    "\t\tfunA(n // 2)\n",
    "\t\t\n",
    "funA(20)"
   ]
  }
 ],
 "metadata": {
  "kernelspec": {
   "display_name": "base",
   "language": "python",
   "name": "python3"
  },
  "language_info": {
   "codemirror_mode": {
    "name": "ipython",
    "version": 3
   },
   "file_extension": ".py",
   "mimetype": "text/x-python",
   "name": "python",
   "nbconvert_exporter": "python",
   "pygments_lexer": "ipython3",
   "version": "3.11.3"
  },
  "orig_nbformat": 4
 },
 "nbformat": 4,
 "nbformat_minor": 2
}
