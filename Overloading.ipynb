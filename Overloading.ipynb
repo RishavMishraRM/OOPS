{
 "cells": [
  {
   "cell_type": "code",
   "execution_count": 3,
   "metadata": {},
   "outputs": [
    {
     "name": "stdout",
     "output_type": "stream",
     "text": [
      "5\n",
      "2\n"
     ]
    }
   ],
   "source": [
    "# Overloading\n",
    "def add(a=None, b=None):\n",
    "\tif a != None and b == None:\n",
    "\t\tprint(a)\n",
    "\telse:\n",
    "\t\tprint(a+b)\n",
    "# two arguments are passed, returns addition of two\n",
    "add(2, 3)\n",
    "# only one argument is passed, returns a\n",
    "add(2)"
   ]
  },
  {
   "cell_type": "code",
   "execution_count": 4,
   "metadata": {},
   "outputs": [
    {
     "name": "stdout",
     "output_type": "stream",
     "text": [
      "(3, 5)\n"
     ]
    }
   ],
   "source": [
    "# Operators Overloading\n",
    "class complex:\n",
    "\tdef __init__(self, a, b):\n",
    "\t\tself.a = a\n",
    "\t\tself.b = b\n",
    "\tdef __add__(self, other):\n",
    "\t\treturn self.a + other.a, self.b + other.b\n",
    "\n",
    "Ob1 = complex(1, 2)\n",
    "Ob2 = complex(2, 3)\n",
    "Ob3 = Ob1 + Ob2\n",
    "print(Ob3)"
   ]
  },
  {
   "cell_type": "code",
   "execution_count": null,
   "metadata": {},
   "outputs": [],
   "source": []
  }
 ],
 "metadata": {
  "kernelspec": {
   "display_name": "base",
   "language": "python",
   "name": "python3"
  },
  "language_info": {
   "codemirror_mode": {
    "name": "ipython",
    "version": 3
   },
   "file_extension": ".py",
   "mimetype": "text/x-python",
   "name": "python",
   "nbconvert_exporter": "python",
   "pygments_lexer": "ipython3",
   "version": "3.11.3"
  },
  "orig_nbformat": 4
 },
 "nbformat": 4,
 "nbformat_minor": 2
}
