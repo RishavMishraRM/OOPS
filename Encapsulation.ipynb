{
 "cells": [
  {
   "cell_type": "code",
   "execution_count": 1,
   "metadata": {},
   "outputs": [
    {
     "name": "stdout",
     "output_type": "stream",
     "text": [
      "Calling protected member of base class:  2\n",
      "Calling modified protected member outside class:  3\n",
      "Accessing protected member of obj1:  3\n",
      "Accessing protected member of obj2:  2\n"
     ]
    }
   ],
   "source": [
    "# Protected members\n",
    "\n",
    "# Creating a base class\n",
    "class Base:\n",
    "\tdef __init__(self):\n",
    "\t\t# Protected member\n",
    "\t\tself._a = 2\n",
    "\n",
    "# Creating a derived class\n",
    "class Derived(Base):\n",
    "\tdef __init__(self):\n",
    "\t\t# Calling constructor of\n",
    "\t\t# Base class\n",
    "\t\tBase.__init__(self)\n",
    "\t\tprint(\"Calling protected member of base class: \",self._a)\n",
    "\t\t# Modify the protected variable:\n",
    "\t\tself._a = 3\n",
    "\t\tprint(\"Calling modified protected member outside class: \",self._a)\n",
    "\n",
    "\n",
    "obj1 = Derived()\n",
    "obj2 = Base()\n",
    "\n",
    "# Calling protected member\n",
    "# Can be accessed but should not be done due to convention\n",
    "print(\"Accessing protected member of obj1: \", obj1._a)\n",
    "\n",
    "# Accessing the protected variable outside\n",
    "print(\"Accessing protected member of obj2: \", obj2._a)"
   ]
  },
  {
   "cell_type": "code",
   "execution_count": 9,
   "metadata": {},
   "outputs": [
    {
     "name": "stdout",
     "output_type": "stream",
     "text": [
      "Public Function only\n"
     ]
    }
   ],
   "source": [
    "# Private members\n",
    "\n",
    "# Creating a Base class\n",
    "class Base:\n",
    "\tdef __init__(self):\n",
    "\t\tself.a = \"Public Function only\"\n",
    "\t\tself.__c = \"Private Function\"\n",
    "\n",
    "# Creating a derived class\n",
    "class Derived(Base):\n",
    "\tdef __init__(self):\n",
    "\t\t# Calling constructor of\n",
    "\t\t# Base class\n",
    "\t\tBase.__init__(self)\n",
    "\t\tprint(\"Calling private member of base class: \")\n",
    "\t\tprint(self.__c)\n",
    "\n",
    "# Driver code\n",
    "obj1 = Base()\n",
    "print(obj1.a)\n",
    "\n",
    "\n",
    "# Uncommenting print(obj1.c) will\n",
    "# raise an AttributeError\n",
    "\n",
    "# Uncommenting obj2 = Derived() will\n",
    "# also raise an AttributeError as\n",
    "# private member of base class\n",
    "# is called inside derived class"
   ]
  }
 ],
 "metadata": {
  "kernelspec": {
   "display_name": "base",
   "language": "python",
   "name": "python3"
  },
  "language_info": {
   "codemirror_mode": {
    "name": "ipython",
    "version": 3
   },
   "file_extension": ".py",
   "mimetype": "text/x-python",
   "name": "python",
   "nbconvert_exporter": "python",
   "pygments_lexer": "ipython3",
   "version": "3.11.3"
  },
  "orig_nbformat": 4
 },
 "nbformat": 4,
 "nbformat_minor": 2
}
