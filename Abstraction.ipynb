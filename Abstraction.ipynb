{
 "cells": [
  {
   "cell_type": "code",
   "execution_count": 2,
   "metadata": {},
   "outputs": [
    {
     "name": "stdout",
     "output_type": "stream",
     "text": [
      "I have 3 sides\n",
      "I have 4 sides\n",
      "I have 5 sides\n",
      "I have 6 sides\n"
     ]
    }
   ],
   "source": [
    "# Abstract base class work\n",
    "\n",
    "from abc import ABC, abstractmethod\n",
    "\n",
    "class Polygon(ABC):\n",
    "\t@abstractmethod\n",
    "\tdef noofsides(self):\n",
    "\t\tpass\n",
    "\n",
    "class Triangle(Polygon):\n",
    "\t# overriding abstract method\n",
    "\tdef noofsides(self):\n",
    "\t\tprint(\"I have 3 sides\")\n",
    "\n",
    "class Pentagon(Polygon):\n",
    "\t# overriding abstract method\n",
    "\tdef noofsides(self):\n",
    "\t\tprint(\"I have 5 sides\")\n",
    "\n",
    "class Hexagon(Polygon):\n",
    "\t# overriding abstract method\n",
    "\tdef noofsides(self):\n",
    "\t\tprint(\"I have 6 sides\")\n",
    "\n",
    "class Quadrilateral(Polygon):\n",
    "\t# overriding abstract method\n",
    "\tdef noofsides(self):\n",
    "\t\tprint(\"I have 4 sides\")\n",
    "\n",
    "# Driver code\n",
    "R = Triangle()\n",
    "R.noofsides()\n",
    "K = Quadrilateral()\n",
    "K.noofsides()\n",
    "R = Pentagon()\n",
    "R.noofsides()\n",
    "K = Hexagon()\n",
    "K.noofsides()"
   ]
  },
  {
   "cell_type": "code",
   "execution_count": 3,
   "metadata": {},
   "outputs": [
    {
     "name": "stdout",
     "output_type": "stream",
     "text": [
      "False\n",
      "True\n",
      "True\n",
      "False\n"
     ]
    }
   ],
   "source": [
    "#Interface class in python\n",
    "\n",
    "import abc\n",
    "class Food (abc.ABC):\n",
    "  @abc.abstractmethod\n",
    "  def taste( self ):\n",
    "   pass\n",
    "class northIndian(Food) :\n",
    "  def taste(self):\n",
    "   print(\" Cooking! \")\n",
    "class Food (abc.ABC):\n",
    "   @abc.abstractmethod\n",
    "   def taste(self):\n",
    "    pass\n",
    "class southIndian(Food) :\n",
    "   def taste(self) :\n",
    "    print(\" Cooking!.. \")\n",
    "a = northIndian ()\n",
    "s = southIndian()\n",
    "print( isinstance(s, northIndian))\n",
    "print( isinstance(s, southIndian))\n",
    "print( isinstance(a, northIndian))\n",
    "print( isinstance(a, southIndian))"
   ]
  },
  {
   "cell_type": "code",
   "execution_count": null,
   "metadata": {},
   "outputs": [],
   "source": []
  }
 ],
 "metadata": {
  "kernelspec": {
   "display_name": "base",
   "language": "python",
   "name": "python3"
  },
  "language_info": {
   "codemirror_mode": {
    "name": "ipython",
    "version": 3
   },
   "file_extension": ".py",
   "mimetype": "text/x-python",
   "name": "python",
   "nbconvert_exporter": "python",
   "pygments_lexer": "ipython3",
   "version": "3.11.3"
  },
  "orig_nbformat": 4
 },
 "nbformat": 4,
 "nbformat_minor": 2
}
